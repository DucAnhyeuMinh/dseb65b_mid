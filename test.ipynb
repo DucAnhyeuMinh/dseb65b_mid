{
 "cells": [
  {
   "cell_type": "code",
   "execution_count": 13,
   "metadata": {},
   "outputs": [],
   "source": [
    "from datetime import datetime\n",
    "\n",
    "current_time = datetime.now().strftime(\"%H:%M:%S\")\n"
   ]
  },
  {
   "cell_type": "code",
   "execution_count": 14,
   "metadata": {},
   "outputs": [
    {
     "data": {
      "text/plain": [
       "['00', '12', '05']"
      ]
     },
     "execution_count": 14,
     "metadata": {},
     "output_type": "execute_result"
    }
   ],
   "source": [
    "hms = current_time.split(':')\n",
    "hms"
   ]
  },
  {
   "cell_type": "code",
   "execution_count": 2,
   "metadata": {},
   "outputs": [],
   "source": [
    "import streamlit as st"
   ]
  },
  {
   "cell_type": "code",
   "execution_count": 7,
   "metadata": {},
   "outputs": [
    {
     "data": {
      "text/plain": [
       "{'You regularly make new friends.': 'E',\n",
       " 'Complex and novel ideas excite you more than simple and straightforward ones.': 'N',\n",
       " 'You usually feel more persuaded by what resonates emotionally with you than by factual arguments.': 'F',\n",
       " 'Your living and working spaces are clean and organized.': 'J',\n",
       " 'You usually stay calm, even under a lot of pressure.': 'J',\n",
       " 'You find the idea of networking or promoting yourself to strangers very daunting.': 'I',\n",
       " 'You prioritize and plan tasks effectively, often completing them well before the deadline.': 'J',\n",
       " 'People’s stories and emotions speak louder to you than numbers or data.': 'F',\n",
       " 'You like to use organizing tools like schedules and lists.': 'J',\n",
       " 'Even a small mistake can cause you to doubt your overall abilities and knowledge.': 'J',\n",
       " 'You feel comfortable just walking up to someone you find interesting and striking up a conversation.': 'E',\n",
       " 'You are not too interested in discussions about various interpretations of creative works.': 'S',\n",
       " 'You prioritize facts over people’s s when determining a course of action.': 'T',\n",
       " 'You often allow the day to unfold without any schedule at all.': 'P',\n",
       " 'You rarely worry about whether you make a good impression on people you meet.': 'I',\n",
       " 'You enjoy participating in team-based activities.': 'E',\n",
       " 'You enjoy experimenting with new and untested approaches.': 'N',\n",
       " 'You prioritize being sensitive over being completely honest.': 'F',\n",
       " 'You actively seek out new experiences and knowledge areas to explore.': 'N',\n",
       " 'You are prone to worrying that things will take a turn for the worse.': 'J',\n",
       " 'You enjoy solitary hobbies or activities more than group ones.': 'I',\n",
       " 'You cannot imagine yourself writing fictional stories for a living.': 'S',\n",
       " 'You favor efficiency in decisions, even if it means disregarding some emotional aspects.': 'T',\n",
       " 'You prefer to do your chores before allowing yourself to relax.': 'J',\n",
       " 'In disagreements, you prioritize proving your point over preserving the s of others.': 'T',\n",
       " 'You usually wait for others to introduce themselves first at social gatherings.': 'I',\n",
       " 'Your mood can change very quickly.': 'P',\n",
       " 'You are not easily swayed by emotional arguments.': 'T',\n",
       " 'You often end up doing things at the last possible moment.': 'P',\n",
       " 'You enjoy debating ethical dilemmas.': 'N',\n",
       " 'You usually prefer to be around others rather than on your own.': 'E',\n",
       " 'You become bored or lose interest when the discussion gets highly theoretical.': 'S',\n",
       " 'When facts and s conflict, you usually find yourself following your heart.': 'F',\n",
       " 'You find it challenging to maintain a consistent work or study schedule.': 'P',\n",
       " 'You rarely second-guess the choices that you have made.': 'J',\n",
       " 'Your friends would describe you as lively and outgoing.': 'E',\n",
       " 'You are drawn to various forms of creative expression, such as writing.': 'N',\n",
       " 'You usually base your choices on objective facts rather than emotional impressions.': 'T',\n",
       " 'You like to have a to-do list for each day.': 'J',\n",
       " 'You rarely feel insecure.': 'J',\n",
       " 'You avoid making phone calls.': 'I',\n",
       " 'You enjoy exploring unfamiliar ideas and viewpoints.': 'N',\n",
       " 'You can easily connect with people you have just met.': 'E',\n",
       " 'If your plans are interrupted, your top priority is to get back on track as soon as possible.': 'J',\n",
       " 'You are still bothered by mistakes that you made a long time ago.': 'J',\n",
       " 'You are not too interested in discussing theories on what the world could look like in the future.': 'S',\n",
       " 'Your emotions control you more than you control them.': 'P',\n",
       " 'When making decisions, you focus more on how the affected people might feel than on what is most logical or efficient.': 'F',\n",
       " 'Your personal work style is closer to spontaneous bursts of energy than organized and consistent efforts.': 'P',\n",
       " 'When someone thinks highly of you, you wonder how long it will take them to feel disappointed in you.': 'P',\n",
       " 'You would love a job that requires you to work alone most of the time.': 'I',\n",
       " 'You believe that pondering abstract philosophical questions is a waste of time.': 'S',\n",
       " 'You feel more drawn to busy, bustling atmospheres than to quiet, intimate places.': 'E',\n",
       " 'If a decision feels right to you, you often act on it without needing further proof.': 'F',\n",
       " 'You often feel overwhelmed.': 'P',\n",
       " 'You complete things methodically without skipping over any steps.': 'J',\n",
       " 'You prefer tasks that require you to come up with creative solutions rather than follow concrete steps.': 'N',\n",
       " 'You are more likely to rely on emotional  than logical reasoning when making a choice.': 'F',\n",
       " 'You struggle with deadlines.': 'P',\n",
       " 'You feel confident that things will work out for you.': 'J'}"
      ]
     },
     "execution_count": 7,
     "metadata": {},
     "output_type": "execute_result"
    }
   ],
   "source": []
  },
  {
   "cell_type": "code",
   "execution_count": null,
   "metadata": {},
   "outputs": [],
   "source": []
  }
 ],
 "metadata": {
  "kernelspec": {
   "display_name": "base",
   "language": "python",
   "name": "python3"
  },
  "language_info": {
   "codemirror_mode": {
    "name": "ipython",
    "version": 3
   },
   "file_extension": ".py",
   "mimetype": "text/x-python",
   "name": "python",
   "nbconvert_exporter": "python",
   "pygments_lexer": "ipython3",
   "version": "3.12.4"
  }
 },
 "nbformat": 4,
 "nbformat_minor": 2
}
